{
  "nbformat": 4,
  "nbformat_minor": 0,
  "metadata": {
    "colab": {
      "name": "ImageToChip.ipynb",
      "provenance": [],
      "collapsed_sections": [],
      "include_colab_link": true
    },
    "kernelspec": {
      "name": "python3",
      "display_name": "Python 3"
    }
  },
  "cells": [
    {
      "cell_type": "markdown",
      "metadata": {
        "id": "view-in-github",
        "colab_type": "text"
      },
      "source": [
        "<a href=\"https://colab.research.google.com/github/vashic/Object-Detection/blob/master/ImageToChip.ipynb\" target=\"_parent\"><img src=\"https://colab.research.google.com/assets/colab-badge.svg\" alt=\"Open In Colab\"/></a>"
      ]
    },
    {
      "cell_type": "markdown",
      "metadata": {
        "id": "a-IOm2a6yo1c",
        "colab_type": "text"
      },
      "source": [
        "This lesson is to convert annotation over large GeoTiffs made on QGIS in the form of rectangular polygon GeoJSONS to YOLO readable ones. We will also split the images into 512x512 sides chips to ready it for training. Some level of preprocessing is required on QGIS before we can start with this tutorial which is essentially the annotations themselves. QGIS provides the option of creating vector files which is detailed in [this simple tutorial](https://www.qgistutorials.com/en/docs/digitizing_basics.html) by [Ujaval Gandhi](https://spatialthoughts.com/about/). I annotated the imagery usig a rectangular polygon for simplicity. The created vector files can be exported as a GeoJSON file (Right click on the saved layer>Export. However, when we are working with very large areas, we might have used multiple images for the digitization procedure. For the sake of this tutorial, we will not have to worry about it as we are using a single image. However, for the curious, there are two ways by which to handle it:\n",
        "* Technqiue 1: This is the better way which I'll update the codes for subsequently. We need to create a field containing the path of the image we have used for the digitization so that we can call the specific image for chip generation.\n",
        "* Technique 2: Not a recommended technique due to the huge sizes of the resulting dataset, but you can mosaic all the images to generate one giant image that can be used with this code for chipping.\n",
        "\n",
        "The image and the geojson created on the image is uploaded into a Directory on your Google Drive. I have called the Directory CraterDetection. Now we're ready to start with our tutorial. First step is to import Drive where our data is stored. The first two commands are sufficient to mount Drive. However, I am creating a symbolic link to the Directory I am using using the ln command accessed via bash (using !)."
      ]
    },
    {
      "cell_type": "code",
      "metadata": {
        "id": "enSmB-5qykX9",
        "colab_type": "code",
        "colab": {
          "base_uri": "https://localhost:8080/",
          "height": 173
        },
        "outputId": "38835153-61d1-40b6-ec1a-ad01f4c4ba1e"
      },
      "source": [
        "from google.colab import drive\n",
        "drive.mount('/content/gdrive', force_remount=True)\n",
        "!ln -s /content/gdrive/My\\ Drive/CraterDetection /content/crater\n",
        "!ls /content/crater"
      ],
      "execution_count": null,
      "outputs": [
        {
          "output_type": "stream",
          "text": [
            "Go to this URL in a browser: https://accounts.google.com/o/oauth2/auth?client_id=947318989803-6bn6qk8qdgf4n4g3pfee6491hc0brc4i.apps.googleusercontent.com&redirect_uri=urn%3aietf%3awg%3aoauth%3a2.0%3aoob&response_type=code&scope=email%20https%3a%2f%2fwww.googleapis.com%2fauth%2fdocs.test%20https%3a%2f%2fwww.googleapis.com%2fauth%2fdrive%20https%3a%2f%2fwww.googleapis.com%2fauth%2fdrive.photos.readonly%20https%3a%2f%2fwww.googleapis.com%2fauth%2fpeopleapi.readonly\n",
            "\n",
            "Enter your authorization code:\n",
            "··········\n",
            "Mounted at /content/gdrive\n",
            "B19_016892_1884_XN_08N297W.tiff  dataset1   testIm.tif\t      trial.geojson\n",
            "CraterDetection\t\t\t dataset2   testIm_write.tif\n",
            "dataset\t\t\t\t RawImages  train.json\n"
          ],
          "name": "stdout"
        }
      ]
    },
    {
      "cell_type": "markdown",
      "metadata": {
        "id": "zzfBsn91NPzc",
        "colab_type": "text"
      },
      "source": [
        "Next, we'll import a whole bunch of libraries that we will be using. Certain libraries aren't available on Colab and can be installed using the pip install command by accessing bash through the ! \n",
        "\n",
        "The list of libraries and their functions are as follows:\n",
        "* geojson used to load, encode and decode geojsons.\n",
        "* glob can be used to find files in the directory\n",
        "* rasterio\n",
        "* matplotlib"
      ]
    },
    {
      "cell_type": "code",
      "metadata": {
        "id": "DvsDBtpakTxg",
        "colab_type": "code",
        "colab": {
          "base_uri": "https://localhost:8080/",
          "height": 34
        },
        "outputId": "1a62bc9d-88dc-4787-b04c-ebc1e09079ce"
      },
      "source": [
        "import glob\n",
        "image_folder = '/content/crater'\n",
        "# The geojson file is searched for in the directory using the glob function which returns a list. The first element of the list is accessed which is the file in question.\n",
        "fileg=glob.glob(image_folder+'/*.geojson')[0]\n",
        "print(fileg)"
      ],
      "execution_count": null,
      "outputs": [
        {
          "output_type": "stream",
          "text": [
            "/content/crater/trial.geojson\n"
          ],
          "name": "stdout"
        }
      ]
    },
    {
      "cell_type": "markdown",
      "metadata": {
        "id": "eeat9mDbl0fF",
        "colab_type": "text"
      },
      "source": [
        "In order to open and work with the geojson file, we will need to import the geojson library. As it isn't available by default on colab, we will install it using the pip installation by accessing bash."
      ]
    },
    {
      "cell_type": "code",
      "metadata": {
        "id": "2sRuFaalNeyf",
        "colab_type": "code",
        "colab": {
          "base_uri": "https://localhost:8080/",
          "height": 85
        },
        "outputId": "190e3c06-39e0-4d49-e266-292c59f832aa"
      },
      "source": [
        "!pip install geojson\n",
        "import geojson\n",
        "# reading GEOJSON files\n",
        "with open(fileg, 'r') as f:\n",
        "    labelg = geojson.load(f)"
      ],
      "execution_count": null,
      "outputs": [
        {
          "output_type": "stream",
          "text": [
            "Collecting geojson\n",
            "  Downloading https://files.pythonhosted.org/packages/e4/8d/9e28e9af95739e6d2d2f8d4bef0b3432da40b7c3588fbad4298c1be09e48/geojson-2.5.0-py2.py3-none-any.whl\n",
            "Installing collected packages: geojson\n",
            "Successfully installed geojson-2.5.0\n"
          ],
          "name": "stdout"
        }
      ]
    },
    {
      "cell_type": "markdown",
      "metadata": {
        "id": "N8rby0Q7maRl",
        "colab_type": "text"
      },
      "source": [
        "Now we have the annotated labels in the geojson file stored in the labelg variable. On checking the datatype, you see that its a geojson Feature Collection. You can view its keys using the .keys()"
      ]
    },
    {
      "cell_type": "code",
      "metadata": {
        "id": "4qn_wfJQpDuW",
        "colab_type": "code",
        "colab": {
          "base_uri": "https://localhost:8080/",
          "height": 34
        },
        "outputId": "281d8e90-fcc8-4159-9119-a4d49197c493"
      },
      "source": [
        "#Checking the datatype of the variable labelg\n",
        "type(labelg)"
      ],
      "execution_count": null,
      "outputs": [
        {
          "output_type": "execute_result",
          "data": {
            "text/plain": [
              "geojson.feature.FeatureCollection"
            ]
          },
          "metadata": {
            "tags": []
          },
          "execution_count": 4
        }
      ]
    },
    {
      "cell_type": "code",
      "metadata": {
        "id": "M_m7PwzCmSv_",
        "colab_type": "code",
        "colab": {
          "base_uri": "https://localhost:8080/",
          "height": 34
        },
        "outputId": "eed964ef-b9d5-4684-a492-fd94d770f105"
      },
      "source": [
        "print('GeoJSON keys: ',labelg.keys())"
      ],
      "execution_count": null,
      "outputs": [
        {
          "output_type": "stream",
          "text": [
            "GeoJSON keys:  dict_keys(['type', 'name', 'features'])\n"
          ],
          "name": "stdout"
        }
      ]
    },
    {
      "cell_type": "markdown",
      "metadata": {
        "id": "fbT7FRWjm1sV",
        "colab_type": "text"
      },
      "source": [
        "You can explore the different features and their contents by accessing the values for the keys."
      ]
    },
    {
      "cell_type": "code",
      "metadata": {
        "id": "j96e8m-FPnoa",
        "colab_type": "code",
        "colab": {}
      },
      "source": [
        ""
      ],
      "execution_count": null,
      "outputs": []
    },
    {
      "cell_type": "code",
      "metadata": {
        "id": "s5qklfnZmr9H",
        "colab_type": "code",
        "colab": {
          "base_uri": "https://localhost:8080/",
          "height": 88
        },
        "outputId": "c0352a99-307f-4a7a-c012-4c0c01df21a1"
      },
      "source": [
        "#Accessing the type key\n",
        "print('Type is:',labelg['type'])\n",
        "#Accessing the name key\n",
        "print('Name is:',labelg['name'])\n",
        "#Accessing the features key\n",
        "print('Features are:',labelg['features'])"
      ],
      "execution_count": null,
      "outputs": [
        {
          "output_type": "stream",
          "text": [
            "Type is: FeatureCollection\n",
            "Name is: trial\n",
            "Features are: [{\"geometry\": {\"coordinates\": [[[[169.493128, 18.909745], [169.493128, 19.638177], [170.22, 19.638177], [170.22, 18.909745], [169.493128, 18.909745]]]], \"type\": \"MultiPolygon\"}, \"properties\": {\"id\": 1}, \"type\": \"Feature\"}, {\"geometry\": {\"coordinates\": [[[[170.723819, 18.610262], [170.723819, 18.809917], [170.95935, 18.809917], [170.95935, 18.610262], [170.723819, 18.610262]]]], \"type\": \"MultiPolygon\"}, \"properties\": {\"id\": 2}, \"type\": \"Feature\"}, {\"geometry\": {\"coordinates\": [[[[171.075556, 20.5959], [171.075556, 20.723025], [171.218278, 20.723025], [171.218278, 20.5959], [171.075556, 20.5959]]]], \"type\": \"MultiPolygon\"}, \"properties\": {\"id\": 3}, \"type\": \"Feature\"}, {\"geometry\": {\"coordinates\": [[[[169.525884, 20.318254], [169.525884, 20.445378], [169.659248, 20.445378], [169.659248, 20.318254], [169.525884, 20.318254]]]], \"type\": \"MultiPolygon\"}, \"properties\": {\"id\": 4}, \"type\": \"Feature\"}, {\"geometry\": {\"coordinates\": [[[[171.12235, 18.862171], [171.12235, 18.940161], [171.192542, 18.940161], [171.192542, 18.862171], [171.12235, 18.862171]]]], \"type\": \"MultiPolygon\"}, \"properties\": {\"id\": 5}, \"type\": \"Feature\"}, {\"geometry\": {\"coordinates\": [[[[168.933546, 18.218749], [168.933546, 18.288161], [169.005688, 18.288161], [169.005688, 18.218749], [168.933546, 18.218749]]]], \"type\": \"MultiPolygon\"}, \"properties\": {\"id\": 6}, \"type\": \"Feature\"}]\n"
          ],
          "name": "stdout"
        }
      ]
    },
    {
      "cell_type": "markdown",
      "metadata": {
        "id": "e49mDHwgnUVN",
        "colab_type": "text"
      },
      "source": [
        "So you see that the geojson contains a FeatureCollection named trial (recall that the filename is trial.geojson). A featurecollection is a list of features. The features within the feature collection can further be explored."
      ]
    },
    {
      "cell_type": "code",
      "metadata": {
        "id": "gpRgeGZknSP0",
        "colab_type": "code",
        "colab": {
          "base_uri": "https://localhost:8080/",
          "height": 34
        },
        "outputId": "69b76079-e00a-44fe-81f0-22fbb50a2840"
      },
      "source": [
        "#Checking the datatype of features\n",
        "print(type(labelg['features']))"
      ],
      "execution_count": null,
      "outputs": [
        {
          "output_type": "stream",
          "text": [
            "<class 'list'>\n"
          ],
          "name": "stdout"
        }
      ]
    },
    {
      "cell_type": "code",
      "metadata": {
        "id": "JPcLMHY4ook-",
        "colab_type": "code",
        "colab": {
          "base_uri": "https://localhost:8080/",
          "height": 54
        },
        "outputId": "56162fb5-d7ba-43e2-ea51-f2d3fa02fdf0"
      },
      "source": [
        "#Accessing elements\n",
        "print(labelg['features'][0])"
      ],
      "execution_count": null,
      "outputs": [
        {
          "output_type": "stream",
          "text": [
            "{\"geometry\": {\"coordinates\": [[[[169.493128, 18.909745], [169.493128, 19.638177], [170.22, 19.638177], [170.22, 18.909745], [169.493128, 18.909745]]]], \"type\": \"MultiPolygon\"}, \"properties\": {\"id\": 1}, \"type\": \"Feature\"}\n"
          ],
          "name": "stdout"
        }
      ]
    },
    {
      "cell_type": "markdown",
      "metadata": {
        "id": "h3TZzFSLp6eo",
        "colab_type": "text"
      },
      "source": [
        "Each of the features are given by a key value pair. Let's see what the keys are:"
      ]
    },
    {
      "cell_type": "code",
      "metadata": {
        "id": "ygNpX51CpGLj",
        "colab_type": "code",
        "colab": {
          "base_uri": "https://localhost:8080/",
          "height": 34
        },
        "outputId": "d2a6d38f-6c98-495d-bfe8-0db85621df4d"
      },
      "source": [
        "#Getting the list of keys\n",
        "print(labelg['features'][0].keys())"
      ],
      "execution_count": null,
      "outputs": [
        {
          "output_type": "stream",
          "text": [
            "dict_keys(['type', 'geometry', 'properties'])\n"
          ],
          "name": "stdout"
        }
      ]
    },
    {
      "cell_type": "code",
      "metadata": {
        "id": "EqDBa9kpqf6w",
        "colab_type": "code",
        "colab": {
          "base_uri": "https://localhost:8080/",
          "height": 68
        },
        "outputId": "e5268a43-9bd5-450a-caeb-4b47b7d2bc51"
      },
      "source": [
        "# Accessing the values of the first feature\n",
        "print('Type is:',labelg['features'][0]['type'])\n",
        "print('Geometry is:',labelg['features'][0]['geometry'])\n",
        "print('Properties is:',labelg['features'][0]['properties'])"
      ],
      "execution_count": null,
      "outputs": [
        {
          "output_type": "stream",
          "text": [
            "Type is: Feature\n",
            "Geometry is: {\"coordinates\": [[[[169.493128, 18.909745], [169.493128, 19.638177], [170.22, 19.638177], [170.22, 18.909745], [169.493128, 18.909745]]]], \"type\": \"MultiPolygon\"}\n",
            "Properties is: {'id': 1}\n"
          ],
          "name": "stdout"
        }
      ]
    },
    {
      "cell_type": "code",
      "metadata": {
        "id": "YVdXBOhJti5h",
        "colab_type": "code",
        "colab": {
          "base_uri": "https://localhost:8080/",
          "height": 68
        },
        "outputId": "84d02c08-79bf-4f27-8ce9-2c55c006e5c1"
      },
      "source": [
        "#Let's see how this varies for the next feature\n",
        "print('Type is:',labelg['features'][1]['type'])\n",
        "print('Geometry is:',labelg['features'][1]['geometry'])\n",
        "print('Properties is:',labelg['features'][1]['properties'])"
      ],
      "execution_count": null,
      "outputs": [
        {
          "output_type": "stream",
          "text": [
            "Type is: Feature\n",
            "Geometry is: {\"coordinates\": [[[[170.723819, 18.610262], [170.723819, 18.809917], [170.95935, 18.809917], [170.95935, 18.610262], [170.723819, 18.610262]]]], \"type\": \"MultiPolygon\"}\n",
            "Properties is: {'id': 2}\n"
          ],
          "name": "stdout"
        }
      ]
    },
    {
      "cell_type": "markdown",
      "metadata": {
        "id": "eLkbrStkt8gg",
        "colab_type": "text"
      },
      "source": [
        "All of the Features represent the coordinates of the bounding rectangle given by left bottom, left top, right top and right bottom. The coordinates are as available for the image stored in our directory. Let's take a look at the image. In order to open the image, we need to use a library that is compatible with the Geotiff format which is the format of our image. GDAL is a commonly used Python library for raster analysis. Rasterio is another tool built over GDAL which provides a Pythonic wrapper around GDAL. We'll use rasterio here."
      ]
    },
    {
      "cell_type": "code",
      "metadata": {
        "id": "KKXHxk9-twk5",
        "colab_type": "code",
        "colab": {
          "base_uri": "https://localhost:8080/",
          "height": 306
        },
        "outputId": "0d28c495-13c4-4d7c-e2ba-9b49656ec427"
      },
      "source": [
        "!pip install rasterio\n",
        "import rasterio as rst\n",
        "import numpy as np\n",
        "dataset=rst.open(image_folder+'/'+'testIm.tif')"
      ],
      "execution_count": null,
      "outputs": [
        {
          "output_type": "stream",
          "text": [
            "Collecting rasterio\n",
            "\u001b[?25l  Downloading https://files.pythonhosted.org/packages/02/7e/eed7dfd109fc89ed3cf8b5ed3f26f841b03b92f6ca1c31c4745f938a081b/rasterio-1.1.5-cp36-cp36m-manylinux1_x86_64.whl (18.2MB)\n",
            "\u001b[K     |████████████████████████████████| 18.2MB 230kB/s \n",
            "\u001b[?25hCollecting affine\n",
            "  Downloading https://files.pythonhosted.org/packages/ac/a6/1a39a1ede71210e3ddaf623982b06ecfc5c5c03741ae659073159184cd3e/affine-2.3.0-py2.py3-none-any.whl\n",
            "Requirement already satisfied: numpy in /usr/local/lib/python3.6/dist-packages (from rasterio) (1.18.4)\n",
            "Collecting click-plugins\n",
            "  Downloading https://files.pythonhosted.org/packages/e9/da/824b92d9942f4e472702488857914bdd50f73021efea15b4cad9aca8ecef/click_plugins-1.1.1-py2.py3-none-any.whl\n",
            "Requirement already satisfied: attrs in /usr/local/lib/python3.6/dist-packages (from rasterio) (19.3.0)\n",
            "Collecting cligj>=0.5\n",
            "  Downloading https://files.pythonhosted.org/packages/e4/be/30a58b4b0733850280d01f8bd132591b4668ed5c7046761098d665ac2174/cligj-0.5.0-py3-none-any.whl\n",
            "Requirement already satisfied: click<8,>=4.0 in /usr/local/lib/python3.6/dist-packages (from rasterio) (7.1.2)\n",
            "Collecting snuggs>=1.4.1\n",
            "  Downloading https://files.pythonhosted.org/packages/cc/0e/d27d6e806d6c0d1a2cfdc5d1f088e42339a0a54a09c3343f7f81ec8947ea/snuggs-1.4.7-py3-none-any.whl\n",
            "Requirement already satisfied: pyparsing>=2.1.6 in /usr/local/lib/python3.6/dist-packages (from snuggs>=1.4.1->rasterio) (2.4.7)\n",
            "Installing collected packages: affine, click-plugins, cligj, snuggs, rasterio\n",
            "Successfully installed affine-2.3.0 click-plugins-1.1.1 cligj-0.5.0 rasterio-1.1.5 snuggs-1.4.7\n"
          ],
          "name": "stdout"
        }
      ]
    },
    {
      "cell_type": "code",
      "metadata": {
        "id": "u27v844evEKo",
        "colab_type": "code",
        "colab": {
          "base_uri": "https://localhost:8080/",
          "height": 51
        },
        "outputId": "3c54c321-dbb5-425b-f2e8-604e28564bdb"
      },
      "source": [
        "# RasterYSize to get the number of rows, RasterXSize to get the number of columns and RasterCount to get bands\n",
        "num_rows,num_cols = dataset.shape\n",
        "num_bands = dataset.count\n",
        "\n",
        "print('Image size is: {r} rows x {c} columns x {b} bands \\n'.format(r=num_rows, c=num_cols, b=num_bands))"
      ],
      "execution_count": null,
      "outputs": [
        {
          "output_type": "stream",
          "text": [
            "Image size is: 321 rows x 313 columns x 1 bands \n",
            "\n"
          ],
          "name": "stdout"
        }
      ]
    },
    {
      "cell_type": "markdown",
      "metadata": {
        "id": "sjujV2SbwBmb",
        "colab_type": "text"
      },
      "source": [
        "Let's also see the Coordinate Reference System, Geotransform and Metadata of the dataset"
      ]
    },
    {
      "cell_type": "code",
      "metadata": {
        "id": "gRfcw-DWvMbD",
        "colab_type": "code",
        "colab": {
          "base_uri": "https://localhost:8080/",
          "height": 207
        },
        "outputId": "e1c5db78-ac79-404a-ebae-20bf38b7e9f8"
      },
      "source": [
        "crs=dataset.crs\n",
        "transform=dataset.transform\n",
        "metadata=dataset.meta\n",
        "description=dataset.descriptions\n",
        "print('CRS:',crs)\n",
        "print('\\n Geotransform:',transform)\n",
        "print('\\n Metadata:',metadata)\n",
        "print('\\n Description:',description)"
      ],
      "execution_count": null,
      "outputs": [
        {
          "output_type": "stream",
          "text": [
            "CRS: GEOGCS[\"unnamed ellipse\",DATUM[\"unknown\",SPHEROID[\"unnamed\",3396190,0]],PRIMEM[\"Greenwich\",0],UNIT[\"degree\",0.0174532925199433]]\n",
            "\n",
            " Geotransform: | 0.01, 0.00, 168.26|\n",
            "| 0.00,-0.01, 21.00|\n",
            "| 0.00, 0.00, 1.00|\n",
            "\n",
            " Metadata: {'driver': 'GTiff', 'dtype': 'float64', 'nodata': -9999.0, 'width': 313, 'height': 321, 'count': 1, 'crs': CRS.from_wkt('GEOGCS[\"unnamed ellipse\",DATUM[\"unknown\",SPHEROID[\"unnamed\",3396190,0]],PRIMEM[\"Greenwich\",0],UNIT[\"degree\",0.0174532925199433]]'), 'transform': Affine(0.009967795501597375, 0.0, 168.26006,\n",
            "       0.0, -0.009968847398753896, 21.000000015)}\n",
            "\n",
            " Description: (None,)\n"
          ],
          "name": "stdout"
        }
      ]
    },
    {
      "cell_type": "markdown",
      "metadata": {
        "id": "z4tDV8blxftL",
        "colab_type": "text"
      },
      "source": [
        "In order to read the bands as a numpy array, use the read function"
      ]
    },
    {
      "cell_type": "code",
      "metadata": {
        "id": "jSaAs7vAwwrU",
        "colab_type": "code",
        "colab": {
          "base_uri": "https://localhost:8080/",
          "height": 68
        },
        "outputId": "d730dda8-e819-4de7-abd6-45ac310b2eba"
      },
      "source": [
        "print('Image type is:',type(dataset))\n",
        "data_as_arr=dataset.read(1) #Note that the one in the bracket refers to the band we are reading. GDAL is 1 indexed, not the Pythonic 0 based index. We can also read all bands by not specifying a number which will be the same as 1 in this case\n",
        "print('\\nImage type after reading is:',type(data_as_arr))"
      ],
      "execution_count": null,
      "outputs": [
        {
          "output_type": "stream",
          "text": [
            "Image type is: <class 'rasterio.io.DatasetReader'>\n",
            "\n",
            "Image type after reading is: <class 'numpy.ndarray'>\n"
          ],
          "name": "stdout"
        }
      ]
    },
    {
      "cell_type": "markdown",
      "metadata": {
        "id": "GozZJgzkzPCh",
        "colab_type": "text"
      },
      "source": [
        "Let's try some numpy commands on the data and try to visualize the data using matplotlib"
      ]
    },
    {
      "cell_type": "code",
      "metadata": {
        "id": "7wNBDG3zzM0L",
        "colab_type": "code",
        "colab": {
          "base_uri": "https://localhost:8080/",
          "height": 34
        },
        "outputId": "deadbf7b-a95f-4cf2-828c-f5c5dc188c98"
      },
      "source": [
        "print(data_as_arr.shape)"
      ],
      "execution_count": null,
      "outputs": [
        {
          "output_type": "stream",
          "text": [
            "(321, 313)\n"
          ],
          "name": "stdout"
        }
      ]
    },
    {
      "cell_type": "code",
      "metadata": {
        "id": "2LXJV0KazXCL",
        "colab_type": "code",
        "colab": {
          "base_uri": "https://localhost:8080/",
          "height": 286
        },
        "outputId": "2f0fdd8c-1941-4ab7-c0a5-2794646275af"
      },
      "source": [
        "#Importing required libraries\n",
        "import matplotlib.pyplot as plt\n",
        "\n",
        "# Plotting in greyscale\n",
        "plt.imshow(data_as_arr[:,:],cmap=plt.cm.Greys_r)\n",
        "plt.colorbar()"
      ],
      "execution_count": null,
      "outputs": [
        {
          "output_type": "execute_result",
          "data": {
            "text/plain": [
              "<matplotlib.colorbar.Colorbar at 0x7f3a7157a0b8>"
            ]
          },
          "metadata": {
            "tags": []
          },
          "execution_count": 17
        },
        {
          "output_type": "display_data",
          "data": {
            "image/png": "[encoded data removed]",
            "text/plain": [
              "<Figure size 432x288 with 2 Axes>"
            ]
          },
          "metadata": {
            "tags": [],
            "needs_background": "light"
          }
        }
      ]
    },
    {
      "cell_type": "markdown",
      "metadata": {
        "id": "U44TAxboJ2tb",
        "colab_type": "text"
      },
      "source": [
        "The geojson annotations now need to be converted into a YOLO readable text file. YOLO requires a list of the central coordinates, the bounding box bottom left and top right coordinates. We can extract the centers and the coordinates for each feature using the coordinates key under geometry key of the feature."
      ]
    },
    {
      "cell_type": "code",
      "metadata": {
        "id": "lK10NNAUz2ag",
        "colab_type": "code",
        "colab": {
          "base_uri": "https://localhost:8080/",
          "height": 105
        },
        "outputId": "27c1c719-6dae-419a-9040-5d950ea5d629"
      },
      "source": [
        "# extracting coordinates of bounding boxes\n",
        "coords, center_list = [], []\n",
        "for p in range(0,len(labelg['features'])):\n",
        "  [[[[x1,y1],[x2,y2],[x3,y3],[x4,y4],[x5,y5]]]]=(labelg['features'][p]['geometry']['coordinates'])\n",
        "  x_bot=min(x1,x2,x3,x4)\n",
        "  y_bot=min(y1,y2,y3,y4)\n",
        "  x_top=max(x1,x2,x3,x4)\n",
        "  y_top=max(y1,y2,y3,y4)\n",
        "  #Stores the bb centre coordinates\n",
        "  center_list.append([(x_bot+x_top)//2, (y_bot+y_top)//2])\n",
        "  #Stores the bb bottom left and top right\n",
        "  q=[[x_bot,y_bot],[x_top,y_top]]\n",
        "  coords.append(q)\n",
        "#coords = np.array(coords)\n",
        "print(type(coords))\n",
        "print(type(center_list))\n",
        "print(coords)\n",
        "print(center_list)\n",
        "coords = np.array(coords)\n"
      ],
      "execution_count": null,
      "outputs": [
        {
          "output_type": "stream",
          "text": [
            "<class 'list'>\n",
            "<class 'list'>\n",
            "[[[169.493128, 18.909745], [170.22, 19.638177]], [[170.723819, 18.610262], [170.95935, 18.809917]], [[171.075556, 20.5959], [171.218278, 20.723025]], [[169.525884, 20.318254], [169.659248, 20.445378]], [[171.12235, 18.862171], [171.192542, 18.940161]], [[168.933546, 18.218749], [169.005688, 18.288161]]]\n",
            "[[169.0, 19.0], [170.0, 18.0], [171.0, 20.0], [169.0, 20.0], [171.0, 18.0], [168.0, 18.0]]\n"
          ],
          "name": "stdout"
        }
      ]
    },
    {
      "cell_type": "markdown",
      "metadata": {
        "id": "-uOmRVvML0y4",
        "colab_type": "text"
      },
      "source": [
        "We have extracted the centers of the bounding box and its coordinates as a Python list. Next, we will create clusters of the bounding box centers so that we chip only parts of the image containing bounding boxes as opposed to providing inputs of images without annotations. Min_samples is set to 1 implying that in case of a bounding box separate from others, it can be a cluster in itself ie the minimum number of samples required to form a cluster is 1. EPS is the maximum distance between two samples in a cluster. If it is low, then the clusters are smaller and there are more clusters. If it's high, then there are fewer clusters of a larger size. For our purposes with the trial image and annotations, I've set a low value for more clusters. For a well annotated image we can set it close to 256."
      ]
    },
    {
      "cell_type": "code",
      "metadata": {
        "id": "cc3a5LEmvpty",
        "colab_type": "code",
        "colab": {
          "base_uri": "https://localhost:8080/",
          "height": 34
        },
        "outputId": "cd8011a2-7943-4bc9-9724-1a4a6f37701a"
      },
      "source": [
        "# DB-Scan algorithm for clustering\n",
        "# value of eps (threshold) can be set from 220-256 for images with a large number of annotations. \n",
        "\n",
        "from sklearn.cluster import DBSCAN\n",
        "eps = 1\n",
        "dbscan = DBSCAN(min_samples=1, eps=eps)\n",
        "x = np.array(center_list)\n",
        "y = dbscan.fit_predict(x)\n",
        "print(y)"
      ],
      "execution_count": null,
      "outputs": [
        {
          "output_type": "stream",
          "text": [
            "[0 1 2 0 1 3]\n"
          ],
          "name": "stdout"
        }
      ]
    },
    {
      "cell_type": "markdown",
      "metadata": {
        "id": "EuXp-m5d8G0C",
        "colab_type": "text"
      },
      "source": [
        "Now that we have clustered the annoatations and created a list y with the value of the index corresponding to the cluster the annotation belongs to (in this case we have the 6 annotations in 4 clusters 0,1,2 and 3). Let's now generate the centroids of the clusters and the bounding box of the cluster."
      ]
    },
    {
      "cell_type": "code",
      "metadata": {
        "id": "8dTVB4I7wFqk",
        "colab_type": "code",
        "colab": {}
      },
      "source": [
        "# storing centroid of clusters\n",
        "info = {}\n",
        "for i in range(y.max()+1):\n",
        "    # calculates the max and min coords of all the\n",
        "    # bounding boxes present in the cluster\n",
        "    mi_x, mi_y = x[np.where(y==i)[0]].min(axis=0)\n",
        "    ma_x, ma_y = x[np.where(y==i)[0]].max(axis=0)\n",
        "\n",
        "    item = {}\n",
        "    item['center'] = [(mi_x+ma_x)//2, (mi_y+ma_y)//2]\n",
        "    item['bbox'] = coords[np.where(y==i)[0]].tolist()\n",
        "\n",
        "    info[i] = item"
      ],
      "execution_count": null,
      "outputs": []
    },
    {
      "cell_type": "markdown",
      "metadata": {
        "id": "YqygJE12Pr3e",
        "colab_type": "text"
      },
      "source": [
        "The info variable contains the cluster centers and bounding boxes."
      ]
    },
    {
      "cell_type": "code",
      "metadata": {
        "id": "mhsv4-0vwUzd",
        "colab_type": "code",
        "colab": {
          "base_uri": "https://localhost:8080/",
          "height": 187
        },
        "outputId": "76b5f3c0-d4a5-406e-b22e-73364bbff922"
      },
      "source": [
        "info"
      ],
      "execution_count": null,
      "outputs": [
        {
          "output_type": "execute_result",
          "data": {
            "text/plain": [
              "{0: {'bbox': [[[169.493128, 18.909745], [170.22, 19.638177]],\n",
              "   [[169.525884, 20.318254], [169.659248, 20.445378]]],\n",
              "  'center': [169.0, 19.0]},\n",
              " 1: {'bbox': [[[170.723819, 18.610262], [170.95935, 18.809917]],\n",
              "   [[171.12235, 18.862171], [171.192542, 18.940161]]],\n",
              "  'center': [170.0, 18.0]},\n",
              " 2: {'bbox': [[[171.075556, 20.5959], [171.218278, 20.723025]]],\n",
              "  'center': [171.0, 20.0]},\n",
              " 3: {'bbox': [[[168.933546, 18.218749], [169.005688, 18.288161]]],\n",
              "  'center': [168.0, 18.0]}}"
            ]
          },
          "metadata": {
            "tags": []
          },
          "execution_count": 21
        }
      ]
    },
    {
      "cell_type": "code",
      "metadata": {
        "id": "rX6_fABT2aET",
        "colab_type": "code",
        "colab": {
          "base_uri": "https://localhost:8080/",
          "height": 34
        },
        "outputId": "d8480e13-18f0-402c-d1e0-09f67fd55a19"
      },
      "source": [
        "info.keys()"
      ],
      "execution_count": null,
      "outputs": [
        {
          "output_type": "execute_result",
          "data": {
            "text/plain": [
              "dict_keys([0, 1, 2, 3])"
            ]
          },
          "metadata": {
            "tags": []
          },
          "execution_count": 22
        }
      ]
    },
    {
      "cell_type": "code",
      "metadata": {
        "id": "1P7dO5_rTNQX",
        "colab_type": "code",
        "colab": {}
      },
      "source": [
        "from imageio import imwrite"
      ],
      "execution_count": null,
      "outputs": []
    },
    {
      "cell_type": "code",
      "metadata": {
        "id": "dchSdSiE2r0f",
        "colab_type": "code",
        "colab": {}
      },
      "source": [
        "# saves chips of size 512x512\n",
        "# along with labels in YOLO format\n",
        "def save_files(image, info):\n",
        "    \n",
        "    for k in info.keys():\n",
        "        y, x = info[k]['center'][0], info[k]['center'][1] #Because of the way the centers are stored we have y coordinate first and then x\n",
        "        x=int(x)\n",
        "        y=int(y)\n",
        "        if y<=10:\n",
        "          continue\n",
        "        elif x<=10:\n",
        "          continue\n",
        "\n",
        "        print('\\n',k)\n",
        "        # saving image chip\n",
        "        iname = '/content/crater/data/im_{}.jpg'.format(k)\n",
        "        #imwrite(iname, image[max((x-256), 0):min((x+256),image.shape[0]),max(0,(y-256)):min((y+256),image.shape[1])])\n",
        "        imwrite(iname, image[x-10:x+10,y-10:y+10])\n",
        "\n",
        "        # saving label\n",
        "        file = open(iname.replace('.jpg', '.txt'), 'a')\n",
        "        for point in info[k]['bbox']:\n",
        "            [[x_bot, y_bot], [x_top, y_top]] = point\n",
        "            xc = (x_bot+x_top)//2 - x + 10\n",
        "            yc = (y_bot+y_top)//2 - y + 10\n",
        "            w = abs(x_bot-x_top)\n",
        "            h = abs(y_bot-y_top)\n",
        "\n",
        "            # 0 means first object i.e. crater\n",
        "            lab = '0 {} {} {} {}\\n'.format(xc/20, yc/20, w/20, h/20)\n",
        "            file.write(lab)\n",
        "        file.close()"
      ],
      "execution_count": null,
      "outputs": []
    },
    {
      "cell_type": "code",
      "metadata": {
        "id": "BDnyGmFxTCrN",
        "colab_type": "code",
        "colab": {
          "base_uri": "https://localhost:8080/",
          "height": 221
        },
        "outputId": "9ee19d82-9de1-433f-bc20-fc574963b72f"
      },
      "source": [
        "save_files(data_as_arr,info)"
      ],
      "execution_count": null,
      "outputs": [
        {
          "output_type": "stream",
          "text": [
            "WARNING:root:Lossy conversion from float64 to uint8. Range [-2855.9079, -2795.547]. Convert image to uint8 prior to saving to suppress this warning.\n",
            "WARNING:root:Lossy conversion from float64 to uint8. Range [-2855.9079, -2796.1753]. Convert image to uint8 prior to saving to suppress this warning.\n",
            "WARNING:root:Lossy conversion from float64 to uint8. Range [-2855.9079, -2794.8754]. Convert image to uint8 prior to saving to suppress this warning.\n",
            "WARNING:root:Lossy conversion from float64 to uint8. Range [-2855.9079, -2796.1753]. Convert image to uint8 prior to saving to suppress this warning.\n"
          ],
          "name": "stderr"
        },
        {
          "output_type": "stream",
          "text": [
            "\n",
            " 0\n",
            "\n",
            " 1\n",
            "\n",
            " 2\n",
            "\n",
            " 3\n"
          ],
          "name": "stdout"
        }
      ]
    },
    {
      "cell_type": "code",
      "metadata": {
        "id": "n4q07R5lZKCq",
        "colab_type": "code",
        "colab": {}
      },
      "source": [
        ""
      ],
      "execution_count": null,
      "outputs": []
    }
  ]
}