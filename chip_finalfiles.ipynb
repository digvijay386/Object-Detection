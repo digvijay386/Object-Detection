{
  "nbformat": 4,
  "nbformat_minor": 0,
  "metadata": {
    "colab": {
      "name": "chip_finalfiles.ipynb",
      "provenance": [],
      "authorship_tag": "ABX9TyN9qb6tPgx3CtuxorWHTJw+",
      "include_colab_link": true
    },
    "kernelspec": {
      "name": "python3",
      "display_name": "Python 3"
    }
  },
  "cells": [
    {
      "cell_type": "markdown",
      "metadata": {
        "id": "view-in-github",
        "colab_type": "text"
      },
      "source": [
        "<a href=\"https://colab.research.google.com/github/vashic/Object-Detection/blob/master/chip_finalfiles.ipynb\" target=\"_parent\"><img src=\"https://colab.research.google.com/assets/colab-badge.svg\" alt=\"Open In Colab\"/></a>"
      ]
    },
    {
      "cell_type": "code",
      "metadata": {
        "id": "a3U8ten3F2Ht",
        "colab_type": "code",
        "colab": {
          "base_uri": "https://localhost:8080/",
          "height": 401
        },
        "outputId": "cc0d86f5-472f-4d71-d653-958fb448dc67"
      },
      "source": [
        "!pip install rasterio\n",
        "import rasterio as rst\n",
        "import numpy as np\n",
        "!pip install geojson\n",
        "import geojson\n",
        "from imageio import imwrite\n",
        "import glob"
      ],
      "execution_count": null,
      "outputs": [
        {
          "output_type": "stream",
          "text": [
            "Collecting rasterio\n",
            "\u001b[?25l  Downloading https://files.pythonhosted.org/packages/02/7e/eed7dfd109fc89ed3cf8b5ed3f26f841b03b92f6ca1c31c4745f938a081b/rasterio-1.1.5-cp36-cp36m-manylinux1_x86_64.whl (18.2MB)\n",
            "\u001b[K     |████████████████████████████████| 18.2MB 1.4MB/s \n",
            "\u001b[?25hCollecting cligj>=0.5\n",
            "  Downloading https://files.pythonhosted.org/packages/e4/be/30a58b4b0733850280d01f8bd132591b4668ed5c7046761098d665ac2174/cligj-0.5.0-py3-none-any.whl\n",
            "Requirement already satisfied: numpy in /usr/local/lib/python3.6/dist-packages (from rasterio) (1.18.5)\n",
            "Collecting click-plugins\n",
            "  Downloading https://files.pythonhosted.org/packages/e9/da/824b92d9942f4e472702488857914bdd50f73021efea15b4cad9aca8ecef/click_plugins-1.1.1-py2.py3-none-any.whl\n",
            "Requirement already satisfied: click<8,>=4.0 in /usr/local/lib/python3.6/dist-packages (from rasterio) (7.1.2)\n",
            "Collecting snuggs>=1.4.1\n",
            "  Downloading https://files.pythonhosted.org/packages/cc/0e/d27d6e806d6c0d1a2cfdc5d1f088e42339a0a54a09c3343f7f81ec8947ea/snuggs-1.4.7-py3-none-any.whl\n",
            "Collecting affine\n",
            "  Downloading https://files.pythonhosted.org/packages/ac/a6/1a39a1ede71210e3ddaf623982b06ecfc5c5c03741ae659073159184cd3e/affine-2.3.0-py2.py3-none-any.whl\n",
            "Requirement already satisfied: attrs in /usr/local/lib/python3.6/dist-packages (from rasterio) (19.3.0)\n",
            "Requirement already satisfied: pyparsing>=2.1.6 in /usr/local/lib/python3.6/dist-packages (from snuggs>=1.4.1->rasterio) (2.4.7)\n",
            "Installing collected packages: cligj, click-plugins, snuggs, affine, rasterio\n",
            "Successfully installed affine-2.3.0 click-plugins-1.1.1 cligj-0.5.0 rasterio-1.1.5 snuggs-1.4.7\n",
            "Collecting geojson\n",
            "  Downloading https://files.pythonhosted.org/packages/e4/8d/9e28e9af95739e6d2d2f8d4bef0b3432da40b7c3588fbad4298c1be09e48/geojson-2.5.0-py2.py3-none-any.whl\n",
            "Installing collected packages: geojson\n",
            "Successfully installed geojson-2.5.0\n"
          ],
          "name": "stdout"
        }
      ]
    },
    {
      "cell_type": "code",
      "metadata": {
        "id": "RS4_hb5KG_Cy",
        "colab_type": "code",
        "colab": {
          "base_uri": "https://localhost:8080/",
          "height": 263
        },
        "outputId": "79c8b469-8d54-4a5a-a9e6-9a0dc162de42"
      },
      "source": [
        "from google.colab import drive\n",
        "drive.mount('/content/gdrive', force_remount=True)\n",
        "!ln -s /content/gdrive/My\\ Drive/FinalForUpload /content/crater\n",
        "!ls /content/crater"
      ],
      "execution_count": null,
      "outputs": [
        {
          "output_type": "stream",
          "text": [
            "Go to this URL in a browser: https://accounts.google.com/o/oauth2/auth?client_id=947318989803-6bn6qk8qdgf4n4g3pfee6491hc0brc4i.apps.googleusercontent.com&redirect_uri=urn%3aietf%3awg%3aoauth%3a2.0%3aoob&response_type=code&scope=email%20https%3a%2f%2fwww.googleapis.com%2fauth%2fdocs.test%20https%3a%2f%2fwww.googleapis.com%2fauth%2fdrive%20https%3a%2f%2fwww.googleapis.com%2fauth%2fdrive.photos.readonly%20https%3a%2f%2fwww.googleapis.com%2fauth%2fpeopleapi.readonly\n",
            "\n",
            "Enter your authorization code:\n",
            "··········\n",
            "Mounted at /content/gdrive\n",
            "B01_010018_1993_XN_19N191W.tiff  F01_036008_2007_XN_20N189W.tiff\n",
            "Craters.geojson\t\t\t G17_024826_2003_XN_20N188W.tiff\n",
            "Craters_new.geojson\t\t P12_005733_1985_XI_18N190W.jp2\n",
            "Craters_old.geojson\t\t P13_006234_1982_XN_18N190W.tiff\n",
            "D01_027648_2027_XN_22N189W.jp2\t P14_006524_1968_XN_16N188W.tiff\n",
            "D20_035019_1986_XN_18N189W.tiff  P20_008739_2013_XN_21N191W.tiff\n",
            "data\t\t\t\t P22_009807_1987_XN_18N190W.tiff\n",
            "data_trial\n"
          ],
          "name": "stdout"
        }
      ]
    },
    {
      "cell_type": "code",
      "metadata": {
        "id": "Ne-VxtXiHE6O",
        "colab_type": "code",
        "colab": {
          "base_uri": "https://localhost:8080/",
          "height": 121
        },
        "outputId": "6fd54ee4-6467-481e-d6b1-2e562e02c966"
      },
      "source": [
        "image_folder = '/content/crater'\n",
        "\n",
        "%cd crater/\n",
        "#Extracting all tiff images\n",
        "im_file_list_tiff=glob.glob('*.tiff')\n",
        "print(len(im_file_list_tiff))\n",
        "#Extracting a list of all jp2 images\n",
        "im_file_list_jp2=glob.glob('*.jp2')\n",
        "print(len(im_file_list_jp2))\n",
        "#Creating a list of all image files\n",
        "im_file_list=im_file_list_tiff+im_file_list_jp2\n",
        "print(len(im_file_list))\n",
        "print(im_file_list[0])\n",
        "%cd ..\n"
      ],
      "execution_count": null,
      "outputs": [
        {
          "output_type": "stream",
          "text": [
            "/content/gdrive/.shortcut-targets-by-id/1ul9UlFeLVh6_RlgjU1hamnY0kIhLxPMe/FinalForUpload\n",
            "8\n",
            "2\n",
            "10\n",
            "B01_010018_1993_XN_19N191W.tiff\n",
            "/content/gdrive/.shortcut-targets-by-id/1ul9UlFeLVh6_RlgjU1hamnY0kIhLxPMe\n"
          ],
          "name": "stdout"
        }
      ]
    },
    {
      "cell_type": "code",
      "metadata": {
        "id": "xdn8CA39HO-h",
        "colab_type": "code",
        "colab": {}
      },
      "source": [
        "# saves chips of size 512x512\n",
        "# along with labels in YOLO format\n",
        "def save_files(image, info):\n",
        "    \n",
        "    for k in info.keys():\n",
        "        #print('\\n',k)\n",
        "        y, x = info[k]['center'][0], info[k]['center'][1] #Because of the way the centers are stored we have y coordinate first and then x\n",
        "        x=int(x)\n",
        "        y=int(y)\n",
        "        if y<=256:\n",
        "          print('y<256')\n",
        "          continue\n",
        "        elif x<=256:\n",
        "          print('x<256')\n",
        "          continue\n",
        "\n",
        "        # saving image chip\n",
        "        iname = '/content/crater/to_augment/{}_{}.jpg'.format(im_file, k)\n",
        "        #imwrite(iname, image[max((x-256), 0):min((x+256),image.shape[0]),max(0,(y-256)):min((y+256),image.shape[1])])\n",
        "        im_trial=image[y-256:y+256,x-256:x+256]\n",
        "        if ((im_trial.shape[0]==512) & (im_trial.shape[1]==512)):\n",
        "          imwrite(iname, im_trial)\n",
        "        else:\n",
        "          print(info[k]['center'][1])\n",
        "          continue\n",
        "\n",
        "        # saving label\n",
        "        file = open(iname.replace('.jpg', '.txt'), 'a')\n",
        "        for point in info[k]['bbox']:\n",
        "            [[y_bot, x_bot], [y_top, x_top]] = point #X and Y swap as before\n",
        "\n",
        "            xc = (x_bot+x_top)//2 - x + 256\n",
        "            yc = (y_bot+y_top)//2 - y + 256\n",
        "            w = abs(x_bot-x_top)\n",
        "            h = abs(y_bot-y_top)\n",
        "\n",
        "            # 0 means first object i.e. crater\n",
        "            lab = '0 {} {} {} {}\\n'.format(xc/512, yc/512, w/512, h/512)\n",
        "            file.write(lab)\n",
        "        file.close()"
      ],
      "execution_count": null,
      "outputs": []
    },
    {
      "cell_type": "code",
      "metadata": {
        "id": "ANecZaAjHlC8",
        "colab_type": "code",
        "colab": {}
      },
      "source": [
        "def extract_im(imfile):\n",
        "  # Replace the number is the bracket from 0 to len(im_file_list)-1 to work for the image of your choice.\n",
        "  dataset=rst.open(image_folder+'/'+im_file)\n",
        "  # RasterYSize to get the number of rows, RasterXSize to get the number of columns and RasterCount to get bands\n",
        "  num_rows,num_cols = dataset.shape\n",
        "  num_bands = dataset.count\n",
        "  crs=dataset.crs\n",
        "  transform=dataset.transform\n",
        "  metadata=dataset.meta\n",
        "  description=dataset.descriptions\n",
        "  data_as_arr=dataset.read(1)\n",
        "  fileg='/content/crater/Craters_new.geojson'\n",
        "  # reading GEOJSON files\n",
        "  with open(fileg, 'r') as f:\n",
        "    labelg = geojson.load(f)\n",
        "  #Loop through the features of the image collection to convert x y to rows and columns.\n",
        "  for x in range(0,len(labelg['features'])):\n",
        "    labelg['features'][x]['properties']['centroid_row'],labelg['features'][x]['properties']['centroid_col']=rst.transform.rowcol(transform,labelg['features'][x]['properties']['centroid_x'],labelg['features'][x]['properties']['centroid_y'])\n",
        "    labelg['features'][x]['properties']['min_row'], labelg['features'][x]['properties']['min_col']=rst.transform.rowcol(transform,labelg['features'][x]['properties']['min_x'], labelg['features'][x]['properties']['min_y'])\n",
        "    labelg['features'][x]['properties']['max_row'], labelg['features'][x]['properties']['max_col']=rst.transform.rowcol(transform,labelg['features'][x]['properties']['max_x'], labelg['features'][x]['properties']['max_y'])\n",
        "  lab=labelg['features'][:]\n",
        "  #Extract only those features overlying the image we are querying\n",
        "  features=[]\n",
        "  for x in range(0,len(lab)):\n",
        "    if lab[x]['properties']['im_path']==im_file:\n",
        "      features.append(lab[x])\n",
        "  feature_collection=geojson.FeatureCollection(features)\n",
        "  # extracting coordinates of bounding boxes\n",
        "  coords, center_list = [], []\n",
        "  for p in range(0,len(feature_collection['features'])):\n",
        "    x_bot=feature_collection['features'][p]['properties']['min_row']\n",
        "    y_bot=feature_collection['features'][p]['properties']['min_col']\n",
        "    x_top=feature_collection['features'][p]['properties']['max_row']\n",
        "    y_top=feature_collection['features'][p]['properties']['max_col']\n",
        "    #Stores the bb centre coordinates\n",
        "    center_list.append([feature_collection['features'][p]['properties']['centroid_row'], feature_collection['features'][p]['properties']['centroid_col']])\n",
        "    #Stores the bb bottom left and top right\n",
        "    q=[[x_bot,y_bot],[x_top,y_top]]\n",
        "    coords.append(q)\n",
        "  #coords = np.array(coords)\n",
        "  coords = np.array(coords)\n",
        "  from sklearn.cluster import DBSCAN\n",
        "  eps = 220\n",
        "  dbscan = DBSCAN(min_samples=1, eps=eps)\n",
        "  x = np.array(center_list)\n",
        "  y = dbscan.fit_predict(x)\n",
        "  # storing centroid of clusters\n",
        "  info = {}\n",
        "  for i in range(y.max()+1):\n",
        "    # calculates the max and min coords of all the\n",
        "    # bounding boxes present in the cluster\n",
        "    mi_x, mi_y = x[np.where(y==i)[0]].min(axis=0)\n",
        "    ma_x, ma_y = x[np.where(y==i)[0]].max(axis=0)\n",
        "\n",
        "    item = {}\n",
        "    item['center'] = [(mi_x+ma_x)//2, (mi_y+ma_y)//2]\n",
        "    item['bbox'] = coords[np.where(y==i)[0]].tolist()\n",
        "\n",
        "    info[i] = item\n",
        "  save_files(data_as_arr,info)"
      ],
      "execution_count": null,
      "outputs": []
    },
    {
      "cell_type": "code",
      "metadata": {
        "id": "8ef4GJ-PHqY-",
        "colab_type": "code",
        "colab": {
          "base_uri": "https://localhost:8080/",
          "height": 364
        },
        "outputId": "1707224f-1751-4279-8e87-77f7f248be4e"
      },
      "source": [
        "for i in im_file_list:\n",
        "  im_file=i\n",
        "  extract_im(im_file)\n",
        "  print(i,' of ',len(im_file_list), '\\n')"
      ],
      "execution_count": null,
      "outputs": [
        {
          "output_type": "stream",
          "text": [
            "B01_010018_1993_XN_19N191W.tiff  of  10 \n",
            "\n",
            "D20_035019_1986_XN_18N189W.tiff  of  10 \n",
            "\n",
            "G17_024826_2003_XN_20N188W.tiff  of  10 \n",
            "\n",
            "P13_006234_1982_XN_18N190W.tiff  of  10 \n",
            "\n",
            "P14_006524_1968_XN_16N188W.tiff  of  10 \n",
            "\n",
            "P22_009807_1987_XN_18N190W.tiff  of  10 \n",
            "\n",
            "P20_008739_2013_XN_21N191W.tiff  of  10 \n",
            "\n",
            "F01_036008_2007_XN_20N189W.tiff  of  10 \n",
            "\n",
            "D01_027648_2027_XN_22N189W.jp2  of  10 \n",
            "\n",
            "P12_005733_1985_XI_18N190W.jp2  of  10 \n",
            "\n"
          ],
          "name": "stdout"
        }
      ]
    },
    {
      "cell_type": "code",
      "metadata": {
        "id": "4NYkzypVHtw8",
        "colab_type": "code",
        "colab": {}
      },
      "source": [
        ""
      ],
      "execution_count": null,
      "outputs": []
    }
  ]
}