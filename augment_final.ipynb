{
  "nbformat": 4,
  "nbformat_minor": 0,
  "metadata": {
    "colab": {
      "name": "augment_final.ipynb",
      "provenance": [],
      "collapsed_sections": [],
      "include_colab_link": true
    },
    "kernelspec": {
      "name": "python3",
      "display_name": "Python 3"
    },
    "accelerator": "GPU"
  },
  "cells": [
    {
      "cell_type": "markdown",
      "metadata": {
        "id": "view-in-github",
        "colab_type": "text"
      },
      "source": [
        "<a href=\"https://colab.research.google.com/github/vashic/Object-Detection/blob/master/augment_final.ipynb\" target=\"_parent\"><img src=\"https://colab.research.google.com/assets/colab-badge.svg\" alt=\"Open In Colab\"/></a>"
      ]
    },
    {
      "cell_type": "code",
      "metadata": {
        "id": "X6fYskRkljti",
        "colab_type": "code",
        "colab": {
          "base_uri": "https://localhost:8080/",
          "height": 124
        },
        "outputId": "15878674-bd23-4729-bbf6-7a41fb061576"
      },
      "source": [
        "from google.colab import drive\n",
        "drive.mount('/content/gdrive')"
      ],
      "execution_count": null,
      "outputs": [
        {
          "output_type": "stream",
          "text": [
            "Go to this URL in a browser: https://accounts.google.com/o/oauth2/auth?client_id=947318989803-6bn6qk8qdgf4n4g3pfee6491hc0brc4i.apps.googleusercontent.com&redirect_uri=urn%3aietf%3awg%3aoauth%3a2.0%3aoob&response_type=code&scope=email%20https%3a%2f%2fwww.googleapis.com%2fauth%2fdocs.test%20https%3a%2f%2fwww.googleapis.com%2fauth%2fdrive%20https%3a%2f%2fwww.googleapis.com%2fauth%2fdrive.photos.readonly%20https%3a%2f%2fwww.googleapis.com%2fauth%2fpeopleapi.readonly\n",
            "\n",
            "Enter your authorization code:\n",
            "··········\n",
            "Mounted at /content/gdrive\n"
          ],
          "name": "stdout"
        }
      ]
    },
    {
      "cell_type": "code",
      "metadata": {
        "id": "dNqsmfG8lmRo",
        "colab_type": "code",
        "colab": {
          "base_uri": "https://localhost:8080/",
          "height": 208
        },
        "outputId": "37ceb31b-8f33-4317-a932-79fba4421ea0"
      },
      "source": [
        "!ln -s /content/gdrive/My\\ Drive/FinalForUpload /content/crater\n",
        "!ls /content/crater"
      ],
      "execution_count": null,
      "outputs": [
        {
          "output_type": "stream",
          "text": [
            "B01_010018_1993_XN_19N191W.tiff  flip_both2\n",
            "Craters.geojson\t\t\t flip_horizontal\n",
            "Craters_new.geojson\t\t flip_vertical\n",
            "Craters_old.geojson\t\t G17_024826_2003_XN_20N188W.tiff\n",
            "D01_027648_2027_XN_22N189W.jp2\t P12_005733_1985_XI_18N190W.jp2\n",
            "D20_035019_1986_XN_18N189W.tiff  P13_006234_1982_XN_18N190W.tiff\n",
            "data\t\t\t\t P14_006524_1968_XN_16N188W.tiff\n",
            "data_Kinkora\t\t\t P20_008739_2013_XN_21N191W.tiff\n",
            "data_trial\t\t\t P22_009807_1987_XN_18N190W.tiff\n",
            "F01_036008_2007_XN_20N189W.tiff  to_augment\n",
            "flip_both\t\t\t to_augment2\n"
          ],
          "name": "stdout"
        }
      ]
    },
    {
      "cell_type": "code",
      "metadata": {
        "id": "QLIu-gxpmKQE",
        "colab_type": "code",
        "colab": {
          "base_uri": "https://localhost:8080/",
          "height": 1000
        },
        "outputId": "0ec4dd6b-65e2-4521-b6d5-03157f053c9f"
      },
      "source": [
        "!ls /content/crater/to_augment2"
      ],
      "execution_count": null,
      "outputs": [
        {
          "output_type": "stream",
          "text": [
            "B01_010218_1550_XN_25S246W.jp2_0.jpg   G22_026714_1564_XN_23S247W.jp2_0.jpg\n",
            "B01_010218_1550_XN_25S246W.jp2_0.txt   G22_026714_1564_XN_23S247W.jp2_0.txt\n",
            "B01_010218_1550_XN_25S246W.jp2_10.jpg  J03_046138_1552_XN_24S248W.jp2_0.jpg\n",
            "B01_010218_1550_XN_25S246W.jp2_10.txt  J03_046138_1552_XN_24S248W.jp2_0.txt\n",
            "B01_010218_1550_XN_25S246W.jp2_11.jpg  J03_046138_1552_XN_24S248W.jp2_1.jpg\n",
            "B01_010218_1550_XN_25S246W.jp2_11.txt  J03_046138_1552_XN_24S248W.jp2_1.txt\n",
            "B01_010218_1550_XN_25S246W.jp2_12.jpg  J03_046138_1552_XN_24S248W.jp2_2.jpg\n",
            "B01_010218_1550_XN_25S246W.jp2_12.txt  J03_046138_1552_XN_24S248W.jp2_2.txt\n",
            "B01_010218_1550_XN_25S246W.jp2_13.jpg  J03_046138_1552_XN_24S248W.jp2_3.jpg\n",
            "B01_010218_1550_XN_25S246W.jp2_13.txt  J03_046138_1552_XN_24S248W.jp2_3.txt\n",
            "B01_010218_1550_XN_25S246W.jp2_14.jpg  J03_046138_1552_XN_24S248W.jp2_4.jpg\n",
            "B01_010218_1550_XN_25S246W.jp2_14.txt  J03_046138_1552_XN_24S248W.jp2_4.txt\n",
            "B01_010218_1550_XN_25S246W.jp2_15.jpg  P07_003599_1546_XN_25S245W.jp2_0.jpg\n",
            "B01_010218_1550_XN_25S246W.jp2_15.txt  P07_003599_1546_XN_25S245W.jp2_0.txt\n",
            "B01_010218_1550_XN_25S246W.jp2_16.jpg  P07_003599_1546_XN_25S245W.jp2_1.jpg\n",
            "B01_010218_1550_XN_25S246W.jp2_16.txt  P07_003599_1546_XN_25S245W.jp2_1.txt\n",
            "B01_010218_1550_XN_25S246W.jp2_17.jpg  P07_003599_1546_XN_25S245W.jp2_2.jpg\n",
            "B01_010218_1550_XN_25S246W.jp2_17.txt  P07_003599_1546_XN_25S245W.jp2_2.txt\n",
            "B01_010218_1550_XN_25S246W.jp2_18.jpg  P07_003599_1546_XN_25S245W.jp2_3.jpg\n",
            "B01_010218_1550_XN_25S246W.jp2_18.txt  P07_003599_1546_XN_25S245W.jp2_3.txt\n",
            "B01_010218_1550_XN_25S246W.jp2_19.jpg  P07_003599_1546_XN_25S245W.jp2_4.jpg\n",
            "B01_010218_1550_XN_25S246W.jp2_19.txt  P07_003599_1546_XN_25S245W.jp2_4.txt\n",
            "B01_010218_1550_XN_25S246W.jp2_1.jpg   P07_003599_1546_XN_25S245W.jp2_5.jpg\n",
            "B01_010218_1550_XN_25S246W.jp2_1.txt   P07_003599_1546_XN_25S245W.jp2_5.txt\n",
            "B01_010218_1550_XN_25S246W.jp2_20.jpg  P07_003599_1546_XN_25S245W.jp2_6.jpg\n",
            "B01_010218_1550_XN_25S246W.jp2_20.txt  P07_003599_1546_XN_25S245W.jp2_6.txt\n",
            "B01_010218_1550_XN_25S246W.jp2_21.jpg  P16_007357_1549_XN_25S247W.jp2_0.jpg\n",
            "B01_010218_1550_XN_25S246W.jp2_21.txt  P16_007357_1549_XN_25S247W.jp2_0.txt\n",
            "B01_010218_1550_XN_25S246W.jp2_22.jpg  P16_007357_1549_XN_25S247W.jp2_10.jpg\n",
            "B01_010218_1550_XN_25S246W.jp2_22.txt  P16_007357_1549_XN_25S247W.jp2_10.txt\n",
            "B01_010218_1550_XN_25S246W.jp2_2.jpg   P16_007357_1549_XN_25S247W.jp2_11.jpg\n",
            "B01_010218_1550_XN_25S246W.jp2_2.txt   P16_007357_1549_XN_25S247W.jp2_11.txt\n",
            "B01_010218_1550_XN_25S246W.jp2_3.jpg   P16_007357_1549_XN_25S247W.jp2_12.jpg\n",
            "B01_010218_1550_XN_25S246W.jp2_3.txt   P16_007357_1549_XN_25S247W.jp2_12.txt\n",
            "B01_010218_1550_XN_25S246W.jp2_4.jpg   P16_007357_1549_XN_25S247W.jp2_13.jpg\n",
            "B01_010218_1550_XN_25S246W.jp2_4.txt   P16_007357_1549_XN_25S247W.jp2_13.txt\n",
            "B01_010218_1550_XN_25S246W.jp2_5.jpg   P16_007357_1549_XN_25S247W.jp2_14.jpg\n",
            "B01_010218_1550_XN_25S246W.jp2_5.txt   P16_007357_1549_XN_25S247W.jp2_14.txt\n",
            "B01_010218_1550_XN_25S246W.jp2_6.jpg   P16_007357_1549_XN_25S247W.jp2_15.jpg\n",
            "B01_010218_1550_XN_25S246W.jp2_6.txt   P16_007357_1549_XN_25S247W.jp2_15.txt\n",
            "B01_010218_1550_XN_25S246W.jp2_7.jpg   P16_007357_1549_XN_25S247W.jp2_16.jpg\n",
            "B01_010218_1550_XN_25S246W.jp2_7.txt   P16_007357_1549_XN_25S247W.jp2_16.txt\n",
            "B01_010218_1550_XN_25S246W.jp2_8.jpg   P16_007357_1549_XN_25S247W.jp2_17.jpg\n",
            "B01_010218_1550_XN_25S246W.jp2_8.txt   P16_007357_1549_XN_25S247W.jp2_17.txt\n",
            "B01_010218_1550_XN_25S246W.jp2_9.jpg   P16_007357_1549_XN_25S247W.jp2_18.jpg\n",
            "B01_010218_1550_XN_25S246W.jp2_9.txt   P16_007357_1549_XN_25S247W.jp2_18.txt\n",
            "B07_012341_1527_XN_27S246W.jp2_0.jpg   P16_007357_1549_XN_25S247W.jp2_19.jpg\n",
            "B07_012341_1527_XN_27S246W.jp2_0.txt   P16_007357_1549_XN_25S247W.jp2_19.txt\n",
            "B07_012341_1527_XN_27S246W.jp2_10.jpg  P16_007357_1549_XN_25S247W.jp2_1.jpg\n",
            "B07_012341_1527_XN_27S246W.jp2_10.txt  P16_007357_1549_XN_25S247W.jp2_1.txt\n",
            "B07_012341_1527_XN_27S246W.jp2_11.jpg  P16_007357_1549_XN_25S247W.jp2_20.jpg\n",
            "B07_012341_1527_XN_27S246W.jp2_11.txt  P16_007357_1549_XN_25S247W.jp2_20.txt\n",
            "B07_012341_1527_XN_27S246W.jp2_1.jpg   P16_007357_1549_XN_25S247W.jp2_21.jpg\n",
            "B07_012341_1527_XN_27S246W.jp2_1.txt   P16_007357_1549_XN_25S247W.jp2_21.txt\n",
            "B07_012341_1527_XN_27S246W.jp2_2.jpg   P16_007357_1549_XN_25S247W.jp2_22.jpg\n",
            "B07_012341_1527_XN_27S246W.jp2_2.txt   P16_007357_1549_XN_25S247W.jp2_22.txt\n",
            "B07_012341_1527_XN_27S246W.jp2_3.jpg   P16_007357_1549_XN_25S247W.jp2_23.jpg\n",
            "B07_012341_1527_XN_27S246W.jp2_3.txt   P16_007357_1549_XN_25S247W.jp2_23.txt\n",
            "B07_012341_1527_XN_27S246W.jp2_4.jpg   P16_007357_1549_XN_25S247W.jp2_24.jpg\n",
            "B07_012341_1527_XN_27S246W.jp2_4.txt   P16_007357_1549_XN_25S247W.jp2_24.txt\n",
            "B07_012341_1527_XN_27S246W.jp2_5.jpg   P16_007357_1549_XN_25S247W.jp2_25.jpg\n",
            "B07_012341_1527_XN_27S246W.jp2_5.txt   P16_007357_1549_XN_25S247W.jp2_25.txt\n",
            "B07_012341_1527_XN_27S246W.jp2_6.jpg   P16_007357_1549_XN_25S247W.jp2_26.jpg\n",
            "B07_012341_1527_XN_27S246W.jp2_6.txt   P16_007357_1549_XN_25S247W.jp2_26.txt\n",
            "B07_012341_1527_XN_27S246W.jp2_7.jpg   P16_007357_1549_XN_25S247W.jp2_27.jpg\n",
            "B07_012341_1527_XN_27S246W.jp2_7.txt   P16_007357_1549_XN_25S247W.jp2_27.txt\n",
            "B07_012341_1527_XN_27S246W.jp2_8.jpg   P16_007357_1549_XN_25S247W.jp2_28.jpg\n",
            "B07_012341_1527_XN_27S246W.jp2_8.txt   P16_007357_1549_XN_25S247W.jp2_28.txt\n",
            "B07_012341_1527_XN_27S246W.jp2_9.jpg   P16_007357_1549_XN_25S247W.jp2_29.jpg\n",
            "B07_012341_1527_XN_27S246W.jp2_9.txt   P16_007357_1549_XN_25S247W.jp2_29.txt\n",
            "B12_014398_1550_XN_25S246W.jp2_0.jpg   P16_007357_1549_XN_25S247W.jp2_2.jpg\n",
            "B12_014398_1550_XN_25S246W.jp2_0.txt   P16_007357_1549_XN_25S247W.jp2_2.txt\n",
            "B12_014398_1550_XN_25S246W.jp2_10.jpg  P16_007357_1549_XN_25S247W.jp2_30.jpg\n",
            "B12_014398_1550_XN_25S246W.jp2_10.txt  P16_007357_1549_XN_25S247W.jp2_30.txt\n",
            "B12_014398_1550_XN_25S246W.jp2_11.jpg  P16_007357_1549_XN_25S247W.jp2_31.jpg\n",
            "B12_014398_1550_XN_25S246W.jp2_11.txt  P16_007357_1549_XN_25S247W.jp2_31.txt\n",
            "B12_014398_1550_XN_25S246W.jp2_12.jpg  P16_007357_1549_XN_25S247W.jp2_3.jpg\n",
            "B12_014398_1550_XN_25S246W.jp2_12.txt  P16_007357_1549_XN_25S247W.jp2_3.txt\n",
            "B12_014398_1550_XN_25S246W.jp2_13.jpg  P16_007357_1549_XN_25S247W.jp2_4.jpg\n",
            "B12_014398_1550_XN_25S246W.jp2_13.txt  P16_007357_1549_XN_25S247W.jp2_4.txt\n",
            "B12_014398_1550_XN_25S246W.jp2_14.jpg  P16_007357_1549_XN_25S247W.jp2_5.jpg\n",
            "B12_014398_1550_XN_25S246W.jp2_14.txt  P16_007357_1549_XN_25S247W.jp2_5.txt\n",
            "B12_014398_1550_XN_25S246W.jp2_15.jpg  P16_007357_1549_XN_25S247W.jp2_6.jpg\n",
            "B12_014398_1550_XN_25S246W.jp2_15.txt  P16_007357_1549_XN_25S247W.jp2_6.txt\n",
            "B12_014398_1550_XN_25S246W.jp2_16.jpg  P16_007357_1549_XN_25S247W.jp2_7.jpg\n",
            "B12_014398_1550_XN_25S246W.jp2_16.txt  P16_007357_1549_XN_25S247W.jp2_7.txt\n",
            "B12_014398_1550_XN_25S246W.jp2_17.jpg  P16_007357_1549_XN_25S247W.jp2_8.jpg\n",
            "B12_014398_1550_XN_25S246W.jp2_17.txt  P16_007357_1549_XN_25S247W.jp2_8.txt\n",
            "B12_014398_1550_XN_25S246W.jp2_18.jpg  P16_007357_1549_XN_25S247W.jp2_9.jpg\n",
            "B12_014398_1550_XN_25S246W.jp2_18.txt  P16_007357_1549_XN_25S247W.jp2_9.txt\n",
            "B12_014398_1550_XN_25S246W.jp2_19.jpg  P17_007502_1549_XN_25S247W.jp2_0.jpg\n",
            "B12_014398_1550_XN_25S246W.jp2_19.txt  P17_007502_1549_XN_25S247W.jp2_0.txt\n",
            "B12_014398_1550_XN_25S246W.jp2_1.jpg   P17_007502_1549_XN_25S247W.jp2_10.jpg\n",
            "B12_014398_1550_XN_25S246W.jp2_1.txt   P17_007502_1549_XN_25S247W.jp2_10.txt\n",
            "B12_014398_1550_XN_25S246W.jp2_20.jpg  P17_007502_1549_XN_25S247W.jp2_11.jpg\n",
            "B12_014398_1550_XN_25S246W.jp2_20.txt  P17_007502_1549_XN_25S247W.jp2_11.txt\n",
            "B12_014398_1550_XN_25S246W.jp2_21.jpg  P17_007502_1549_XN_25S247W.jp2_12.jpg\n",
            "B12_014398_1550_XN_25S246W.jp2_21.txt  P17_007502_1549_XN_25S247W.jp2_12.txt\n",
            "B12_014398_1550_XN_25S246W.jp2_22.jpg  P17_007502_1549_XN_25S247W.jp2_13.jpg\n",
            "B12_014398_1550_XN_25S246W.jp2_22.txt  P17_007502_1549_XN_25S247W.jp2_13.txt\n",
            "B12_014398_1550_XN_25S246W.jp2_23.jpg  P17_007502_1549_XN_25S247W.jp2_14.jpg\n",
            "B12_014398_1550_XN_25S246W.jp2_23.txt  P17_007502_1549_XN_25S247W.jp2_14.txt\n",
            "B12_014398_1550_XN_25S246W.jp2_24.jpg  P17_007502_1549_XN_25S247W.jp2_15.jpg\n",
            "B12_014398_1550_XN_25S246W.jp2_24.txt  P17_007502_1549_XN_25S247W.jp2_15.txt\n",
            "B12_014398_1550_XN_25S246W.jp2_25.jpg  P17_007502_1549_XN_25S247W.jp2_16.jpg\n",
            "B12_014398_1550_XN_25S246W.jp2_25.txt  P17_007502_1549_XN_25S247W.jp2_16.txt\n",
            "B12_014398_1550_XN_25S246W.jp2_26.jpg  P17_007502_1549_XN_25S247W.jp2_17.jpg\n",
            "B12_014398_1550_XN_25S246W.jp2_26.txt  P17_007502_1549_XN_25S247W.jp2_17.txt\n",
            "B12_014398_1550_XN_25S246W.jp2_27.jpg  P17_007502_1549_XN_25S247W.jp2_18.jpg\n",
            "B12_014398_1550_XN_25S246W.jp2_27.txt  P17_007502_1549_XN_25S247W.jp2_18.txt\n",
            "B12_014398_1550_XN_25S246W.jp2_28.jpg  P17_007502_1549_XN_25S247W.jp2_19.jpg\n",
            "B12_014398_1550_XN_25S246W.jp2_28.txt  P17_007502_1549_XN_25S247W.jp2_19.txt\n",
            "B12_014398_1550_XN_25S246W.jp2_29.jpg  P17_007502_1549_XN_25S247W.jp2_1.jpg\n",
            "B12_014398_1550_XN_25S246W.jp2_29.txt  P17_007502_1549_XN_25S247W.jp2_1.txt\n",
            "B12_014398_1550_XN_25S246W.jp2_2.jpg   P17_007502_1549_XN_25S247W.jp2_20.jpg\n",
            "B12_014398_1550_XN_25S246W.jp2_2.txt   P17_007502_1549_XN_25S247W.jp2_20.txt\n",
            "B12_014398_1550_XN_25S246W.jp2_30.jpg  P17_007502_1549_XN_25S247W.jp2_21.jpg\n",
            "B12_014398_1550_XN_25S246W.jp2_30.txt  P17_007502_1549_XN_25S247W.jp2_21.txt\n",
            "B12_014398_1550_XN_25S246W.jp2_31.jpg  P17_007502_1549_XN_25S247W.jp2_22.jpg\n",
            "B12_014398_1550_XN_25S246W.jp2_31.txt  P17_007502_1549_XN_25S247W.jp2_22.txt\n",
            "B12_014398_1550_XN_25S246W.jp2_32.jpg  P17_007502_1549_XN_25S247W.jp2_23.jpg\n",
            "B12_014398_1550_XN_25S246W.jp2_32.txt  P17_007502_1549_XN_25S247W.jp2_23.txt\n",
            "B12_014398_1550_XN_25S246W.jp2_33.jpg  P17_007502_1549_XN_25S247W.jp2_24.jpg\n",
            "B12_014398_1550_XN_25S246W.jp2_33.txt  P17_007502_1549_XN_25S247W.jp2_24.txt\n",
            "B12_014398_1550_XN_25S246W.jp2_3.jpg   P17_007502_1549_XN_25S247W.jp2_25.jpg\n",
            "B12_014398_1550_XN_25S246W.jp2_3.txt   P17_007502_1549_XN_25S247W.jp2_25.txt\n",
            "B12_014398_1550_XN_25S246W.jp2_4.jpg   P17_007502_1549_XN_25S247W.jp2_26.jpg\n",
            "B12_014398_1550_XN_25S246W.jp2_4.txt   P17_007502_1549_XN_25S247W.jp2_26.txt\n",
            "B12_014398_1550_XN_25S246W.jp2_5.jpg   P17_007502_1549_XN_25S247W.jp2_27.jpg\n",
            "B12_014398_1550_XN_25S246W.jp2_5.txt   P17_007502_1549_XN_25S247W.jp2_27.txt\n",
            "B12_014398_1550_XN_25S246W.jp2_6.jpg   P17_007502_1549_XN_25S247W.jp2_28.jpg\n",
            "B12_014398_1550_XN_25S246W.jp2_6.txt   P17_007502_1549_XN_25S247W.jp2_28.txt\n",
            "B12_014398_1550_XN_25S246W.jp2_7.jpg   P17_007502_1549_XN_25S247W.jp2_29.jpg\n",
            "B12_014398_1550_XN_25S246W.jp2_7.txt   P17_007502_1549_XN_25S247W.jp2_29.txt\n",
            "B12_014398_1550_XN_25S246W.jp2_8.jpg   P17_007502_1549_XN_25S247W.jp2_2.jpg\n",
            "B12_014398_1550_XN_25S246W.jp2_8.txt   P17_007502_1549_XN_25S247W.jp2_2.txt\n",
            "B12_014398_1550_XN_25S246W.jp2_9.jpg   P17_007502_1549_XN_25S247W.jp2_30.jpg\n",
            "B12_014398_1550_XN_25S246W.jp2_9.txt   P17_007502_1549_XN_25S247W.jp2_30.txt\n",
            "F03_036841_1554_XN_24S245W.jp2_0.jpg   P17_007502_1549_XN_25S247W.jp2_31.jpg\n",
            "F03_036841_1554_XN_24S245W.jp2_0.txt   P17_007502_1549_XN_25S247W.jp2_31.txt\n",
            "F03_036841_1554_XN_24S245W.jp2_1.jpg   P17_007502_1549_XN_25S247W.jp2_32.jpg\n",
            "F03_036841_1554_XN_24S245W.jp2_1.txt   P17_007502_1549_XN_25S247W.jp2_32.txt\n",
            "F03_036841_1554_XN_24S245W.jp2_2.jpg   P17_007502_1549_XN_25S247W.jp2_33.jpg\n",
            "F03_036841_1554_XN_24S245W.jp2_2.txt   P17_007502_1549_XN_25S247W.jp2_33.txt\n",
            "F03_036841_1554_XN_24S245W.jp2_3.jpg   P17_007502_1549_XN_25S247W.jp2_34.jpg\n",
            "F03_036841_1554_XN_24S245W.jp2_3.txt   P17_007502_1549_XN_25S247W.jp2_34.txt\n",
            "F03_036841_1554_XN_24S245W.jp2_4.jpg   P17_007502_1549_XN_25S247W.jp2_35.jpg\n",
            "F03_036841_1554_XN_24S245W.jp2_4.txt   P17_007502_1549_XN_25S247W.jp2_35.txt\n",
            "F03_036841_1554_XN_24S245W.jp2_5.jpg   P17_007502_1549_XN_25S247W.jp2_36.jpg\n",
            "F03_036841_1554_XN_24S245W.jp2_5.txt   P17_007502_1549_XN_25S247W.jp2_36.txt\n",
            "F03_036841_1554_XN_24S245W.jp2_6.jpg   P17_007502_1549_XN_25S247W.jp2_37.jpg\n",
            "F03_036841_1554_XN_24S245W.jp2_6.txt   P17_007502_1549_XN_25S247W.jp2_37.txt\n",
            "F03_036841_1554_XN_24S245W.jp2_7.jpg   P17_007502_1549_XN_25S247W.jp2_38.jpg\n",
            "F03_036841_1554_XN_24S245W.jp2_7.txt   P17_007502_1549_XN_25S247W.jp2_38.txt\n",
            "F03_036841_1554_XN_24S245W.jp2_8.jpg   P17_007502_1549_XN_25S247W.jp2_39.jpg\n",
            "F03_036841_1554_XN_24S245W.jp2_8.txt   P17_007502_1549_XN_25S247W.jp2_39.txt\n",
            "F23_044938_1533_XN_26S248W.jp2_0.jpg   P17_007502_1549_XN_25S247W.jp2_3.jpg\n",
            "F23_044938_1533_XN_26S248W.jp2_0.txt   P17_007502_1549_XN_25S247W.jp2_3.txt\n",
            "F23_044938_1533_XN_26S248W.jp2_10.jpg  P17_007502_1549_XN_25S247W.jp2_40.jpg\n",
            "F23_044938_1533_XN_26S248W.jp2_10.txt  P17_007502_1549_XN_25S247W.jp2_40.txt\n",
            "F23_044938_1533_XN_26S248W.jp2_11.jpg  P17_007502_1549_XN_25S247W.jp2_41.jpg\n",
            "F23_044938_1533_XN_26S248W.jp2_11.txt  P17_007502_1549_XN_25S247W.jp2_41.txt\n",
            "F23_044938_1533_XN_26S248W.jp2_12.jpg  P17_007502_1549_XN_25S247W.jp2_42.jpg\n",
            "F23_044938_1533_XN_26S248W.jp2_12.txt  P17_007502_1549_XN_25S247W.jp2_42.txt\n",
            "F23_044938_1533_XN_26S248W.jp2_13.jpg  P17_007502_1549_XN_25S247W.jp2_43.jpg\n",
            "F23_044938_1533_XN_26S248W.jp2_13.txt  P17_007502_1549_XN_25S247W.jp2_43.txt\n",
            "F23_044938_1533_XN_26S248W.jp2_14.jpg  P17_007502_1549_XN_25S247W.jp2_44.jpg\n",
            "F23_044938_1533_XN_26S248W.jp2_14.txt  P17_007502_1549_XN_25S247W.jp2_44.txt\n",
            "F23_044938_1533_XN_26S248W.jp2_15.jpg  P17_007502_1549_XN_25S247W.jp2_45.jpg\n",
            "F23_044938_1533_XN_26S248W.jp2_15.txt  P17_007502_1549_XN_25S247W.jp2_45.txt\n",
            "F23_044938_1533_XN_26S248W.jp2_16.jpg  P17_007502_1549_XN_25S247W.jp2_46.jpg\n",
            "F23_044938_1533_XN_26S248W.jp2_16.txt  P17_007502_1549_XN_25S247W.jp2_46.txt\n",
            "F23_044938_1533_XN_26S248W.jp2_17.jpg  P17_007502_1549_XN_25S247W.jp2_47.jpg\n",
            "F23_044938_1533_XN_26S248W.jp2_17.txt  P17_007502_1549_XN_25S247W.jp2_47.txt\n",
            "F23_044938_1533_XN_26S248W.jp2_18.jpg  P17_007502_1549_XN_25S247W.jp2_48.jpg\n",
            "F23_044938_1533_XN_26S248W.jp2_18.txt  P17_007502_1549_XN_25S247W.jp2_48.txt\n",
            "F23_044938_1533_XN_26S248W.jp2_19.jpg  P17_007502_1549_XN_25S247W.jp2_49.jpg\n",
            "F23_044938_1533_XN_26S248W.jp2_19.txt  P17_007502_1549_XN_25S247W.jp2_49.txt\n",
            "F23_044938_1533_XN_26S248W.jp2_1.jpg   P17_007502_1549_XN_25S247W.jp2_4.jpg\n",
            "F23_044938_1533_XN_26S248W.jp2_1.txt   P17_007502_1549_XN_25S247W.jp2_4.txt\n",
            "F23_044938_1533_XN_26S248W.jp2_20.jpg  P17_007502_1549_XN_25S247W.jp2_50.jpg\n",
            "F23_044938_1533_XN_26S248W.jp2_20.txt  P17_007502_1549_XN_25S247W.jp2_50.txt\n",
            "F23_044938_1533_XN_26S248W.jp2_21.jpg  P17_007502_1549_XN_25S247W.jp2_51.jpg\n",
            "F23_044938_1533_XN_26S248W.jp2_21.txt  P17_007502_1549_XN_25S247W.jp2_51.txt\n",
            "F23_044938_1533_XN_26S248W.jp2_2.jpg   P17_007502_1549_XN_25S247W.jp2_52.jpg\n",
            "F23_044938_1533_XN_26S248W.jp2_2.txt   P17_007502_1549_XN_25S247W.jp2_52.txt\n",
            "F23_044938_1533_XN_26S248W.jp2_3.jpg   P17_007502_1549_XN_25S247W.jp2_53.jpg\n",
            "F23_044938_1533_XN_26S248W.jp2_3.txt   P17_007502_1549_XN_25S247W.jp2_53.txt\n",
            "F23_044938_1533_XN_26S248W.jp2_4.jpg   P17_007502_1549_XN_25S247W.jp2_54.jpg\n",
            "F23_044938_1533_XN_26S248W.jp2_4.txt   P17_007502_1549_XN_25S247W.jp2_54.txt\n",
            "F23_044938_1533_XN_26S248W.jp2_5.jpg   P17_007502_1549_XN_25S247W.jp2_5.jpg\n",
            "F23_044938_1533_XN_26S248W.jp2_5.txt   P17_007502_1549_XN_25S247W.jp2_5.txt\n",
            "F23_044938_1533_XN_26S248W.jp2_6.jpg   P17_007502_1549_XN_25S247W.jp2_6.jpg\n",
            "F23_044938_1533_XN_26S248W.jp2_6.txt   P17_007502_1549_XN_25S247W.jp2_6.txt\n",
            "F23_044938_1533_XN_26S248W.jp2_7.jpg   P17_007502_1549_XN_25S247W.jp2_7.jpg\n",
            "F23_044938_1533_XN_26S248W.jp2_7.txt   P17_007502_1549_XN_25S247W.jp2_7.txt\n",
            "F23_044938_1533_XN_26S248W.jp2_8.jpg   P17_007502_1549_XN_25S247W.jp2_8.jpg\n",
            "F23_044938_1533_XN_26S248W.jp2_8.txt   P17_007502_1549_XN_25S247W.jp2_8.txt\n",
            "F23_044938_1533_XN_26S248W.jp2_9.jpg   P17_007502_1549_XN_25S247W.jp2_9.jpg\n",
            "F23_044938_1533_XN_26S248W.jp2_9.txt   P17_007502_1549_XN_25S247W.jp2_9.txt\n"
          ],
          "name": "stdout"
        }
      ]
    },
    {
      "cell_type": "code",
      "metadata": {
        "id": "mXQBdwt4n0rJ",
        "colab_type": "code",
        "colab": {}
      },
      "source": [
        "import glob"
      ],
      "execution_count": null,
      "outputs": []
    },
    {
      "cell_type": "code",
      "metadata": {
        "id": "XNaEdXXjpL6I",
        "colab_type": "code",
        "colab": {}
      },
      "source": [
        "image_folder = '/content/crater'"
      ],
      "execution_count": null,
      "outputs": []
    },
    {
      "cell_type": "code",
      "metadata": {
        "id": "DXnkogb2A47Z",
        "colab_type": "code",
        "colab": {
          "base_uri": "https://localhost:8080/",
          "height": 35
        },
        "outputId": "b1c03b69-5ff6-430d-d0e9-d37afbe0532e"
      },
      "source": [
        "!ls"
      ],
      "execution_count": null,
      "outputs": [
        {
          "output_type": "stream",
          "text": [
            "crater\tgdrive\tsample_data\n"
          ],
          "name": "stdout"
        }
      ]
    },
    {
      "cell_type": "code",
      "metadata": {
        "id": "qX_KeD20ODpX",
        "colab_type": "code",
        "colab": {
          "base_uri": "https://localhost:8080/",
          "height": 35
        },
        "outputId": "e2858323-00ff-44ea-c4ef-aad0783a2941"
      },
      "source": [
        "%pwd"
      ],
      "execution_count": null,
      "outputs": [
        {
          "output_type": "execute_result",
          "data": {
            "text/plain": [
              "'/content'"
            ]
          },
          "metadata": {
            "tags": []
          },
          "execution_count": 7
        }
      ]
    },
    {
      "cell_type": "code",
      "metadata": {
        "id": "SgHGZzcJS8zK",
        "colab_type": "code",
        "colab": {
          "base_uri": "https://localhost:8080/",
          "height": 35
        },
        "outputId": "69de65c5-d882-4071-d0a7-f0c2d370731a"
      },
      "source": [
        "%cd /content/crater/to_augment2/"
      ],
      "execution_count": null,
      "outputs": [
        {
          "output_type": "stream",
          "text": [
            "/content/gdrive/.shortcut-targets-by-id/1ul9UlFeLVh6_RlgjU1hamnY0kIhLxPMe/FinalForUpload/to_augment2\n"
          ],
          "name": "stdout"
        }
      ]
    },
    {
      "cell_type": "code",
      "metadata": {
        "id": "rNcXQaNCodo_",
        "colab_type": "code",
        "colab": {}
      },
      "source": [
        "im_file_list_jpg=glob.glob('*.jpg')"
      ],
      "execution_count": null,
      "outputs": []
    },
    {
      "cell_type": "code",
      "metadata": {
        "id": "lObqijFxokqW",
        "colab_type": "code",
        "colab": {
          "base_uri": "https://localhost:8080/",
          "height": 35
        },
        "outputId": "ab470f31-b10a-4459-a122-83d887ea9ba5"
      },
      "source": [
        "print(im_file_list_jpg[0])"
      ],
      "execution_count": null,
      "outputs": [
        {
          "output_type": "stream",
          "text": [
            "B01_010218_1550_XN_25S246W.jp2_0.jpg\n"
          ],
          "name": "stdout"
        }
      ]
    },
    {
      "cell_type": "code",
      "metadata": {
        "id": "wI-siAqCopms",
        "colab_type": "code",
        "colab": {
          "base_uri": "https://localhost:8080/",
          "height": 35
        },
        "outputId": "a40b9e1f-37c3-4a44-9cf7-36b2bb00226e"
      },
      "source": [
        "print(len(im_file_list_jpg))"
      ],
      "execution_count": null,
      "outputs": [
        {
          "output_type": "stream",
          "text": [
            "200\n"
          ],
          "name": "stdout"
        }
      ]
    },
    {
      "cell_type": "code",
      "metadata": {
        "id": "ju2zWnZuvha7",
        "colab_type": "code",
        "colab": {
          "base_uri": "https://localhost:8080/",
          "height": 52
        },
        "outputId": "7480d281-80b7-42ca-e8c4-f4a659e841c9"
      },
      "source": [
        "%cd ..\n",
        "%pwd"
      ],
      "execution_count": null,
      "outputs": [
        {
          "output_type": "stream",
          "text": [
            "/content/gdrive/.shortcut-targets-by-id/1ul9UlFeLVh6_RlgjU1hamnY0kIhLxPMe/FinalForUpload\n"
          ],
          "name": "stdout"
        },
        {
          "output_type": "execute_result",
          "data": {
            "text/plain": [
              "'/content/gdrive/.shortcut-targets-by-id/1ul9UlFeLVh6_RlgjU1hamnY0kIhLxPMe/FinalForUpload'"
            ]
          },
          "metadata": {
            "tags": []
          },
          "execution_count": 12
        }
      ]
    },
    {
      "cell_type": "code",
      "metadata": {
        "id": "VicwFBE1v_X8",
        "colab_type": "code",
        "colab": {
          "base_uri": "https://localhost:8080/",
          "height": 35
        },
        "outputId": "7b9a5d4b-29f8-4748-b621-137318a3c554"
      },
      "source": [
        "%cd to_augment2"
      ],
      "execution_count": null,
      "outputs": [
        {
          "output_type": "stream",
          "text": [
            "/content/gdrive/.shortcut-targets-by-id/1ul9UlFeLVh6_RlgjU1hamnY0kIhLxPMe/FinalForUpload/to_augment2\n"
          ],
          "name": "stdout"
        }
      ]
    },
    {
      "cell_type": "code",
      "metadata": {
        "id": "I3UFCMXQpVDS",
        "colab_type": "code",
        "colab": {
          "base_uri": "https://localhost:8080/",
          "height": 35
        },
        "outputId": "ea38eb87-2808-48b0-a021-f9fd6237b572"
      },
      "source": [
        "from keras.preprocessing.image import ImageDataGenerator,array_to_img, img_to_array, load_img \n",
        "   \n",
        "# Initialising the ImageDataGenerator class. \n",
        "# We will pass in the augmentation parameters in the constructor. \n",
        "datagen = ImageDataGenerator(        \n",
        "        vertical_flip = True,\n",
        "        #horizontal_flip = True\n",
        "        #brightness_range = (0.5, 1.5)\n",
        "        ) \n",
        "for r in im_file_list_jpg:    \n",
        "# Loading a sample image  \n",
        "  img = load_img(r)  \n",
        "# Converting the input sample image to an array \n",
        "  x = img_to_array(img) \n",
        "# Reshaping the input image \n",
        "  x = x.reshape((1, ) + x.shape)  \n",
        "   \n",
        "# Generating and saving 5 augmented samples  \n",
        "# using the above defined parameters.  \n",
        "  i = 0\n",
        "  for batch in datagen.flow(x, batch_size = 1, \n",
        "                          save_to_dir ='../flip_vertical',  \n",
        "                          save_prefix =\"vertical1\"+r[0:-11], save_format ='jpg'): \n",
        "    i += 1\n",
        "    if i >= 1: \n",
        "        break"
      ],
      "execution_count": null,
      "outputs": [
        {
          "output_type": "stream",
          "text": [
            "Using TensorFlow backend.\n"
          ],
          "name": "stderr"
        }
      ]
    },
    {
      "cell_type": "code",
      "metadata": {
        "id": "co7taz9rxQRq",
        "colab_type": "code",
        "colab": {
          "base_uri": "https://localhost:8080/",
          "height": 52
        },
        "outputId": "a9e979ec-9b08-4c3c-ec17-b31f2e9e932b"
      },
      "source": [
        "%cd ..\n",
        "%pwd"
      ],
      "execution_count": null,
      "outputs": [
        {
          "output_type": "stream",
          "text": [
            "/content/gdrive/.shortcut-targets-by-id/1ul9UlFeLVh6_RlgjU1hamnY0kIhLxPMe/FinalForUpload\n"
          ],
          "name": "stdout"
        },
        {
          "output_type": "execute_result",
          "data": {
            "text/plain": [
              "'/content/gdrive/.shortcut-targets-by-id/1ul9UlFeLVh6_RlgjU1hamnY0kIhLxPMe/FinalForUpload'"
            ]
          },
          "metadata": {
            "tags": []
          },
          "execution_count": 15
        }
      ]
    },
    {
      "cell_type": "code",
      "metadata": {
        "id": "bK-D4YlBxT-c",
        "colab_type": "code",
        "colab": {
          "base_uri": "https://localhost:8080/",
          "height": 35
        },
        "outputId": "fce42203-2a22-43a7-a676-05db7a69d345"
      },
      "source": [
        "%cd to_augment2"
      ],
      "execution_count": null,
      "outputs": [
        {
          "output_type": "stream",
          "text": [
            "/content/gdrive/.shortcut-targets-by-id/1ul9UlFeLVh6_RlgjU1hamnY0kIhLxPMe/FinalForUpload/to_augment2\n"
          ],
          "name": "stdout"
        }
      ]
    },
    {
      "cell_type": "code",
      "metadata": {
        "id": "umUnQMtQxKYQ",
        "colab_type": "code",
        "colab": {}
      },
      "source": [
        "im_file_list_txt=glob.glob('*.txt')"
      ],
      "execution_count": null,
      "outputs": []
    },
    {
      "cell_type": "code",
      "metadata": {
        "id": "VR6LUc3XxcB3",
        "colab_type": "code",
        "colab": {
          "base_uri": "https://localhost:8080/",
          "height": 35
        },
        "outputId": "e59dad61-0552-477d-f1a6-ac9d8501e844"
      },
      "source": [
        "print(len(im_file_list_txt))"
      ],
      "execution_count": null,
      "outputs": [
        {
          "output_type": "stream",
          "text": [
            "200\n"
          ],
          "name": "stdout"
        }
      ]
    },
    {
      "cell_type": "code",
      "metadata": {
        "id": "EAStjdRIx4Ru",
        "colab_type": "code",
        "colab": {
          "base_uri": "https://localhost:8080/",
          "height": 35
        },
        "outputId": "585117f1-a7de-445d-9598-3052292252f2"
      },
      "source": [
        "%cd ../flip_vertical/"
      ],
      "execution_count": null,
      "outputs": [
        {
          "output_type": "stream",
          "text": [
            "/content/gdrive/.shortcut-targets-by-id/1ul9UlFeLVh6_RlgjU1hamnY0kIhLxPMe/FinalForUpload/flip_vertical\n"
          ],
          "name": "stdout"
        }
      ]
    },
    {
      "cell_type": "code",
      "metadata": {
        "id": "duktoGUdx65P",
        "colab_type": "code",
        "colab": {}
      },
      "source": [
        "im_file_list_flip=glob.glob('*.jpg')"
      ],
      "execution_count": null,
      "outputs": []
    },
    {
      "cell_type": "code",
      "metadata": {
        "id": "2QSdE_iax_hu",
        "colab_type": "code",
        "colab": {
          "base_uri": "https://localhost:8080/",
          "height": 35
        },
        "outputId": "e8168b9d-4aca-495c-ee4a-73c981238152"
      },
      "source": [
        "print(len(im_file_list_flip))"
      ],
      "execution_count": null,
      "outputs": [
        {
          "output_type": "stream",
          "text": [
            "200\n"
          ],
          "name": "stdout"
        }
      ]
    },
    {
      "cell_type": "code",
      "metadata": {
        "id": "IXMge51lyq5T",
        "colab_type": "code",
        "colab": {
          "base_uri": "https://localhost:8080/",
          "height": 35
        },
        "outputId": "9e36be8b-be55-4900-b00a-0e60c2f8c453"
      },
      "source": [
        "%pwd"
      ],
      "execution_count": null,
      "outputs": [
        {
          "output_type": "execute_result",
          "data": {
            "text/plain": [
              "'/content/gdrive/.shortcut-targets-by-id/1ul9UlFeLVh6_RlgjU1hamnY0kIhLxPMe/FinalForUpload/flip_vertical'"
            ]
          },
          "metadata": {
            "tags": []
          },
          "execution_count": 22
        }
      ]
    },
    {
      "cell_type": "code",
      "metadata": {
        "id": "YgxHndk8yzg9",
        "colab_type": "code",
        "colab": {
          "base_uri": "https://localhost:8080/",
          "height": 35
        },
        "outputId": "b1d5e67a-169f-48ec-e283-2871aef231d2"
      },
      "source": [
        "%cd ../to_augment2/"
      ],
      "execution_count": null,
      "outputs": [
        {
          "output_type": "stream",
          "text": [
            "/content/gdrive/.shortcut-targets-by-id/1ul9UlFeLVh6_RlgjU1hamnY0kIhLxPMe/FinalForUpload/to_augment2\n"
          ],
          "name": "stdout"
        }
      ]
    },
    {
      "cell_type": "code",
      "metadata": {
        "id": "_J9jPhLBto3_",
        "colab_type": "code",
        "colab": {}
      },
      "source": [
        "for i in range(len(im_file_list_txt)):\n",
        "  bboxes=[]\n",
        "  with open(im_file_list_txt[i],'r') as file: \n",
        "   \n",
        "    # reading each line     \n",
        "    for line in file: \n",
        "   \n",
        "        # reading each word         \n",
        "        for word in line.split(): \n",
        "   \n",
        "            # displaying the words            \n",
        "           if word!=\"0\":\n",
        "             bboxes.append(word)\n",
        "  bboxes[1]= str(1- (float(bboxes[1])))\n",
        "  #bboxes[0]= str(1- (float(bboxes[0])))  \n",
        "  with open(\"../flip_vertical/\"+im_file_list_flip[i][0:-4]+\".txt\",'w') as file: \n",
        "     lab = '0 {} {} {} {}\\n'.format(bboxes[0],bboxes[1],bboxes[2],bboxes[3])\n",
        "     file.write(lab)\n",
        "  file.close()        \n"
      ],
      "execution_count": null,
      "outputs": []
    },
    {
      "cell_type": "code",
      "metadata": {
        "id": "zxki_DyWy6Nz",
        "colab_type": "code",
        "colab": {}
      },
      "source": [
        ""
      ],
      "execution_count": null,
      "outputs": []
    }
  ]
}